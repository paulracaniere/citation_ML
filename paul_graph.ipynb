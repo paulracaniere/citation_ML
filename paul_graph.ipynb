{
 "cells": [
  {
   "cell_type": "code",
   "execution_count": 1,
   "metadata": {},
   "outputs": [],
   "source": [
    "import numpy as np\n",
    "import sklearn as skl\n",
    "import csv\n",
    "import nltk\n",
    "import pandas as pd\n",
    "import matplotlib.pyplot as plt"
   ]
  },
  {
   "cell_type": "code",
   "execution_count": 2,
   "metadata": {},
   "outputs": [],
   "source": [
    "# Reading of the information matrix\n",
    "\n",
    "node_inf_raw = pd.read_csv(\"./node_information.csv\")\n",
    "node_inf = node_inf_raw.values\n",
    "for i in range(len(node_inf)):\n",
    "    if type(node_inf[i][3]) == float:\n",
    "        node_inf[i][3] = set()\n",
    "    else:\n",
    "        node_inf[i][3] = set(node_inf[i][3].split(\", \"))\n",
    "    \n",
    "    if type(node_inf[i][4]) == float:\n",
    "        node_inf[i][4] = ''"
   ]
  },
  {
   "cell_type": "code",
   "execution_count": 3,
   "metadata": {},
   "outputs": [],
   "source": [
    "train_raw = np.array(pd.read_csv(\"./paul_my_train.csv\").values)"
   ]
  },
  {
   "cell_type": "code",
   "execution_count": 4,
   "metadata": {},
   "outputs": [],
   "source": [
    "import networkx as nx"
   ]
  },
  {
   "cell_type": "code",
   "execution_count": 5,
   "metadata": {},
   "outputs": [],
   "source": [
    "graph = nx.Graph()"
   ]
  },
  {
   "cell_type": "code",
   "execution_count": 6,
   "metadata": {},
   "outputs": [],
   "source": [
    "for a in node_inf:\n",
    "    graph.add_node(a[0])"
   ]
  },
  {
   "cell_type": "code",
   "execution_count": 7,
   "metadata": {},
   "outputs": [],
   "source": [
    "for a in train_raw:\n",
    "    if a[2] == 1:\n",
    "        graph.add_edge(a[0], a[1])"
   ]
  },
  {
   "cell_type": "code",
   "execution_count": 8,
   "metadata": {},
   "outputs": [],
   "source": [
    "maxdeg = 0\n",
    "\n",
    "for i in graph.nodes:\n",
    "    if graph.degree(i) > maxdeg:\n",
    "        maxdeg = graph.degree(i)"
   ]
  },
  {
   "cell_type": "code",
   "execution_count": 9,
   "metadata": {},
   "outputs": [
    {
     "name": "stdout",
     "output_type": "stream",
     "text": [
      "Le degré max est: 1871\n"
     ]
    }
   ],
   "source": [
    "print(\"Le degré max est:\",maxdeg)"
   ]
  },
  {
   "cell_type": "code",
   "execution_count": 10,
   "metadata": {},
   "outputs": [
    {
     "name": "stdout",
     "output_type": "stream",
     "text": [
      "Il y a  636 composantes connexes.\n"
     ]
    }
   ],
   "source": [
    "print(\"Il y a \",len(list(nx.connected_components(graph))), \"composantes connexes.\")"
   ]
  },
  {
   "cell_type": "code",
   "execution_count": 12,
   "metadata": {},
   "outputs": [
    {
     "data": {
      "text/plain": [
       "True"
      ]
     },
     "execution_count": 12,
     "metadata": {},
     "output_type": "execute_result"
    }
   ],
   "source": [
    "nx.has_path(graph, 1001, 1002)"
   ]
  },
  {
   "cell_type": "code",
   "execution_count": 14,
   "metadata": {},
   "outputs": [
    {
     "data": {
      "text/plain": [
       "3"
      ]
     },
     "execution_count": 14,
     "metadata": {},
     "output_type": "execute_result"
    }
   ],
   "source": [
    "nx.shortest_path_length(graph, 1001, 1002)"
   ]
  },
  {
   "cell_type": "code",
   "execution_count": 15,
   "metadata": {},
   "outputs": [],
   "source": [
    "test = np.array(pd.read_csv(\"./paul_my_test.csv\").values)"
   ]
  },
  {
   "cell_type": "code",
   "execution_count": 17,
   "metadata": {},
   "outputs": [
    {
     "data": {
      "text/plain": [
       "array([[ 206062,  205067,       1],\n",
       "       [ 202039,  112255,       0],\n",
       "       [9810163, 9306137,       0],\n",
       "       [  11290,   10014,       1],\n",
       "       [ 208112, 9305025,       0],\n",
       "       [9905180, 9706096,       1],\n",
       "       [9911149, 9608024,       1],\n",
       "       [  10190,    6240,       1],\n",
       "       [9810099, 9810072,       1],\n",
       "       [9905212, 9903056,       1]])"
      ]
     },
     "execution_count": 17,
     "metadata": {},
     "output_type": "execute_result"
    }
   ],
   "source": [
    "test[:10]"
   ]
  },
  {
   "cell_type": "code",
   "execution_count": 18,
   "metadata": {},
   "outputs": [
    {
     "name": "stdout",
     "output_type": "stream",
     "text": [
      "2\n",
      "4\n",
      "5\n",
      "2\n",
      "3\n",
      "3\n",
      "2\n",
      "2\n",
      "2\n",
      "2\n"
     ]
    }
   ],
   "source": [
    "for a in test[:10]:\n",
    "    print(nx.shortest_path_length(graph,a[0],a[1]))"
   ]
  },
  {
   "cell_type": "code",
   "execution_count": 20,
   "metadata": {},
   "outputs": [
    {
     "name": "stdout",
     "output_type": "stream",
     "text": [
      "157\n",
      "30\n",
      "13\n",
      "53\n",
      "66\n",
      "76\n",
      "353\n",
      "149\n",
      "237\n",
      "52\n"
     ]
    }
   ],
   "source": [
    "for a in test[:10]:\n",
    "    print(graph.degree(a[0])+graph.degree(a[1]))"
   ]
  },
  {
   "cell_type": "code",
   "execution_count": 24,
   "metadata": {},
   "outputs": [],
   "source": [
    "data_test = np.array([[nx.shortest_path_length(graph,a[0],a[1]) if nx.has_path(graph, a[0], a[1]) else -1, graph.degree(a[0])+graph.degree(a[1])] for a in test])\n"
   ]
  },
  {
   "cell_type": "code",
   "execution_count": 28,
   "metadata": {},
   "outputs": [
    {
     "data": {
      "text/plain": [
       "array([[  2, 157],\n",
       "       [  4,  30],\n",
       "       [  5,  13],\n",
       "       ...,\n",
       "       [  4,  32],\n",
       "       [  6,   7],\n",
       "       [  2, 300]])"
      ]
     },
     "execution_count": 28,
     "metadata": {},
     "output_type": "execute_result"
    }
   ],
   "source": [
    "data_test"
   ]
  },
  {
   "cell_type": "code",
   "execution_count": 37,
   "metadata": {},
   "outputs": [
    {
     "data": {
      "text/plain": [
       "0.11568123393316196"
      ]
     },
     "execution_count": 37,
     "metadata": {},
     "output_type": "execute_result"
    }
   ],
   "source": [
    "sum(test[data_test[:,0]==-1][:,2]==1)/len(test[data_test[:,0]==-1][:,2])"
   ]
  },
  {
   "cell_type": "code",
   "execution_count": 29,
   "metadata": {},
   "outputs": [
    {
     "data": {
      "text/plain": [
       "14"
      ]
     },
     "execution_count": 29,
     "metadata": {},
     "output_type": "execute_result"
    }
   ],
   "source": [
    "max(data_test[:, 0])"
   ]
  },
  {
   "cell_type": "code",
   "execution_count": 55,
   "metadata": {},
   "outputs": [
    {
     "data": {
      "image/png": "[encoded data removed]",
      "text/plain": [
       "<Figure size 1152x576 with 2 Axes>"
      ]
     },
     "metadata": {
      "needs_background": "light"
     },
     "output_type": "display_data"
    }
   ],
   "source": [
    "plt.figure(figsize=(16,8))\n",
    "plt.subplot(121)\n",
    "plt.scatter(data_test[test[:,2]==1][:,0], data_test[test[:,2]==1][:,1], label=\"node\", alpha=0.01, c=\"r\")\n",
    "plt.legend()\n",
    "plt.subplot(122)\n",
    "plt.scatter(data_test[test[:,2]==0][:,0], data_test[test[:,2]==0][:,1], label=\"notnode\", alpha=0.01, c=\"b\")\n",
    "plt.legend()\n",
    "plt.show()"
   ]
  },
  {
   "cell_type": "code",
   "execution_count": 57,
   "metadata": {},
   "outputs": [],
   "source": [
    "data_train = []\n",
    "\n",
    "for a in train_raw:\n",
    "    if a[2] == 1:\n",
    "        graph.remove_edge(a[0], a[1])\n",
    "    data_train.append([nx.shortest_path_length(graph,a[0],a[1]) if nx.has_path(graph, a[0], a[1]) else -1,\n",
    "                       graph.degree(a[0])+graph.degree(a[1])])\n",
    "    if a[2] ==1:\n",
    "        graph.add_edge(a[0], a[1])\n",
    "\n",
    "data_train = np.array(data_train)"
   ]
  },
  {
   "cell_type": "code",
   "execution_count": 70,
   "metadata": {},
   "outputs": [
    {
     "data": {
      "image/png": "[encoded data removed]",
      "text/plain": [
       "<Figure size 1152x576 with 2 Axes>"
      ]
     },
     "metadata": {
      "needs_background": "light"
     },
     "output_type": "display_data"
    }
   ],
   "source": [
    "plt.figure(figsize=(16,8))\n",
    "plt.subplot(121)\n",
    "plt.scatter(data_train[train_raw[:,2]==1][:,0], data_train[train_raw[:,2]==1][:,1], label=\"node\", alpha=0.01, c=\"r\")\n",
    "plt.legend()\n",
    "plt.subplot(122)\n",
    "plt.scatter(data_train[train_raw[:,2]==0][:,0], data_train[train_raw[:,2]==0][:,1], label=\"notnode\", alpha=0.01, c=\"b\")\n",
    "plt.legend()\n",
    "plt.show()"
   ]
  },
  {
   "cell_type": "code",
   "execution_count": 72,
   "metadata": {},
   "outputs": [],
   "source": [
    "with open(\"./paul_train_graph.csv\", \"w\") as f:\n",
    "    writer = csv.writer(f)\n",
    "    writer.writerow([\"dist\", \"sum_deg\"])\n",
    "    for a in data_train:\n",
    "        writer.writerow(a)"
   ]
  },
  {
   "cell_type": "code",
   "execution_count": 73,
   "metadata": {},
   "outputs": [],
   "source": [
    "with open(\"./paul_test_graph.csv\", \"w\") as f:\n",
    "    writer = csv.writer(f)\n",
    "    writer.writerow([\"dist\", \"sum_deg\"])\n",
    "    for a in data_test:\n",
    "        writer.writerow(a)"
   ]
  },
  {
   "cell_type": "code",
   "execution_count": 75,
   "metadata": {},
   "outputs": [
    {
     "name": "stdout",
     "output_type": "stream",
     "text": [
      "[[9807076 9807139]\n",
      " [ 109162    1182]\n",
      " [9702187 9510135]\n",
      " ...\n",
      " [9608095 9205058]\n",
      " [9407008  106256]\n",
      " [ 208144    7142]]\n"
     ]
    }
   ],
   "source": [
    "kaggle = np.array(pd.read_csv(\"./testing_set.txt\", delimiter=\" \", header=None))\n",
    "\n",
    "print(kaggle)\n",
    "\n",
    "data_kaggle = np.array([[nx.shortest_path_length(graph,a[0],a[1]) if nx.has_path(graph, a[0], a[1]) else -1,\n",
    "                       graph.degree(a[0])+graph.degree(a[1])] for a in kaggle])"
   ]
  },
  {
   "cell_type": "code",
   "execution_count": 76,
   "metadata": {},
   "outputs": [],
   "source": [
    "with open(\"./paul_kaggle_graph.csv\", \"w\") as f:\n",
    "    writer = csv.writer(f)\n",
    "    writer.writerow([\"dist\", \"sum_deg\"])\n",
    "    for a in data_kaggle:\n",
    "        writer.writerow(a)"
   ]
  },
  {
   "cell_type": "code",
   "execution_count": null,
   "metadata": {},
   "outputs": [],
   "source": []
  }
 ],
 "metadata": {
  "kernelspec": {
   "display_name": "Python 3",
   "language": "python",
   "name": "python3"
  },
  "language_info": {
   "codemirror_mode": {
    "name": "ipython",
    "version": 3
   },
   "file_extension": ".py",
   "mimetype": "text/x-python",
   "name": "python",
   "nbconvert_exporter": "python",
   "pygments_lexer": "ipython3",
   "version": "3.6.6"
  }
 },
 "nbformat": 4,
 "nbformat_minor": 2
}
