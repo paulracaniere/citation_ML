{
 "cells": [
  {
   "cell_type": "code",
   "execution_count": 1,
   "metadata": {},
   "outputs": [],
   "source": [
    "import numpy as np\n",
    "import sklearn as skl\n",
    "import csv\n",
    "import nltk\n",
    "import pandas as pd"
   ]
  },
  {
   "cell_type": "code",
   "execution_count": 2,
   "metadata": {},
   "outputs": [],
   "source": [
    "def pourcentage_similarity(text1: str, text2: str):\n",
    "    '''\n",
    "    Function used to express similarity between two strings\n",
    "    '''\n",
    "    stop_words = set(nltk.corpus.stopwords.words('english'))\n",
    "    words1 = nltk.tokenize.word_tokenize(text1)\n",
    "    words2 = nltk.tokenize.word_tokenize(text2)\n",
    "\n",
    "    stemmer = nltk.stem.PorterStemmer()\n",
    "\n",
    "    new_sentence1 = []\n",
    "    new_sentence2 = []\n",
    "\n",
    "    for word in words1:\n",
    "        if word not in stop_words:\n",
    "            new_sentence1.append(stemmer.stem(word))\n",
    "\n",
    "    for word in words2:\n",
    "        if word not in stop_words:\n",
    "            new_sentence2.append(stemmer.stem(word))\n",
    "    \n",
    "    set1 = set(new_sentence1)\n",
    "    set2 = set(new_sentence2)\n",
    "    inter = set1.intersection(set2)\n",
    "    \n",
    "    return len(inter) / max(len(set1), len(set2))"
   ]
  },
  {
   "cell_type": "code",
   "execution_count": 3,
   "metadata": {},
   "outputs": [],
   "source": [
    "node_inf_raw = pd.read_csv(\"./node_information.csv\")\n",
    "node_inf = node_inf_raw.values\n",
    "for i in range(len(node_inf)):\n",
    "    if type(node_inf[i][3]) == float:\n",
    "        node_inf[i][3] = []\n",
    "    else:\n",
    "        node_inf[i][3] = node_inf[i][3].split(\", \")\n",
    "    \n",
    "    if type(node_inf[i][4]) == float:\n",
    "        node_inf[i][4] = ''"
   ]
  },
  {
   "cell_type": "code",
   "execution_count": 4,
   "metadata": {},
   "outputs": [],
   "source": [
    "from sklearn.feature_extraction.text import TfidfVectorizer\n",
    "# compute TFIDF vector of each paper\n",
    "stemmer = nltk.stem.PorterStemmer()\n",
    "corpus = [' '.join([stemmer.stem(a) for a in nltk.tokenize.word_tokenize(element[5])]) for element in node_inf]\n",
    "vectorizer = TfidfVectorizer(stop_words=\"english\")\n",
    "# each row is a node in the order of node_info\n",
    "features_TFIDF = vectorizer.fit_transform(corpus)"
   ]
  },
  {
   "cell_type": "code",
   "execution_count": 5,
   "metadata": {},
   "outputs": [
    {
     "data": {
      "text/plain": [
       "array([['0.13688111128682906', 'attent'],\n",
       "       ['0.08436599717492181', 'base'],\n",
       "       ['0.11147182590838096', 'calabi'],\n",
       "       ['0.12728624340033676', 'case'],\n",
       "       ['0.09954676368861036', 'compactif'],\n",
       "       ['0.21213108193839983', 'compactifi'],\n",
       "       ['0.0673234645918907', 'consid'],\n",
       "       ['0.10137106310287669', 'current'],\n",
       "       ['0.08026433021458468', 'differ'],\n",
       "       ['0.06461814715134687', 'dimens'],\n",
       "       ['0.05854793091052995', 'discuss'],\n",
       "       ['0.08318396443734093', 'exist'],\n",
       "       ['0.08609793558213376', 'geometri'],\n",
       "       ['0.07820564378508763', 'given'],\n",
       "       ['0.10518541031065444', 'heterot'],\n",
       "       ['0.3928312136226238', 'hypermultiplet'],\n",
       "       ['0.1125887849517985', 'iia'],\n",
       "       ['0.10359050035090166', 'iib'],\n",
       "       ['0.10009008961862523', 'instanton'],\n",
       "       ['0.2508273480981552', 'k3xt2'],\n",
       "       ['0.1308665876556487', 'lectur'],\n",
       "       ['0.0716148980114334', 'limit'],\n",
       "       ['0.12514324371806376', 'mix'],\n",
       "       ['0.2826577236716669', 'moduli'],\n",
       "       ['0.11174619000228184', 'multiplet'],\n",
       "       ['0.05683951549641364', 'non'],\n",
       "       ['0.11433063374799604', 'note'],\n",
       "       ['0.17027607926504248', 'pay'],\n",
       "       ['0.151657292500538', 'peculiar'],\n",
       "       ['0.0700628598366001', 'point'],\n",
       "       ['0.22901887586850211', 'poor'],\n",
       "       ['0.2829556481571164', 'review'],\n",
       "       ['0.17082831905648246', 'space'],\n",
       "       ['0.10976163920442347', 'specif'],\n",
       "       ['0.07055274285239513', 'state'],\n",
       "       ['0.11498116839376052', 'string'],\n",
       "       ['0.10075454111644742', 'superstr'],\n",
       "       ['0.2508273480981552', 'tasi99'],\n",
       "       ['0.11133406225350764', 'theori'],\n",
       "       ['0.042716520902248346', 'thi'],\n",
       "       ['0.14307606287028657', 'threefold'],\n",
       "       ['0.14566807835271212', 'type'],\n",
       "       ['0.12278137103900352', 'understand'],\n",
       "       ['0.08700747935758621', 'univers'],\n",
       "       ['0.09217859918679583', 'vector'],\n",
       "       ['0.1079005375881573', 'view'],\n",
       "       ['0.11126810864540677', 'yau']], dtype='<U32')"
      ]
     },
     "execution_count": 5,
     "metadata": {},
     "output_type": "execute_result"
    }
   ],
   "source": [
    "np.array([(a, vectorizer.get_feature_names()[j]) for j,a in enumerate([features_TFIDF[0,i] for i in range(19155)]) if a != 0.0])"
   ]
  },
  {
   "cell_type": "code",
   "execution_count": 6,
   "metadata": {},
   "outputs": [],
   "source": [
    "ex = (features_TFIDF[0].multiply(features_TFIDF[1]))"
   ]
  },
  {
   "cell_type": "code",
   "execution_count": 20,
   "metadata": {},
   "outputs": [],
   "source": [
    "ex2 = features_TFIDF[0].dot(features_TFIDF[4].T)"
   ]
  },
  {
   "cell_type": "code",
   "execution_count": 21,
   "metadata": {},
   "outputs": [
    {
     "data": {
      "text/plain": [
       "0.0774826131202842"
      ]
     },
     "execution_count": 21,
     "metadata": {},
     "output_type": "execute_result"
    }
   ],
   "source": [
    "float(ex2.data)"
   ]
  },
  {
   "cell_type": "code",
   "execution_count": 22,
   "metadata": {},
   "outputs": [
    {
     "data": {
      "text/plain": [
       "<27770x19155 sparse matrix of type '<class 'numpy.float64'>'\n",
       "\twith 1199139 stored elements in Compressed Sparse Row format>"
      ]
     },
     "execution_count": 22,
     "metadata": {},
     "output_type": "execute_result"
    }
   ],
   "source": [
    "features_TFIDF"
   ]
  },
  {
   "cell_type": "code",
   "execution_count": 24,
   "metadata": {},
   "outputs": [
    {
     "data": {
      "text/plain": [
       "27770"
      ]
     },
     "execution_count": 24,
     "metadata": {},
     "output_type": "execute_result"
    }
   ],
   "source": [
    "len(corpus)"
   ]
  },
  {
   "cell_type": "code",
   "execution_count": null,
   "metadata": {},
   "outputs": [],
   "source": []
  }
 ],
 "metadata": {
  "kernelspec": {
   "display_name": "Python 3",
   "language": "python",
   "name": "python3"
  },
  "language_info": {
   "codemirror_mode": {
    "name": "ipython",
    "version": 3
   },
   "file_extension": ".py",
   "mimetype": "text/x-python",
   "name": "python",
   "nbconvert_exporter": "python",
   "pygments_lexer": "ipython3",
   "version": "3.6.6"
  }
 },
 "nbformat": 4,
 "nbformat_minor": 2
}
