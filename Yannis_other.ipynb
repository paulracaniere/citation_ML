{
 "cells": [
  {
   "cell_type": "code",
   "execution_count": 1,
   "metadata": {},
   "outputs": [],
   "source": [
    "import pandas as pd\n",
    "import numpy as np\n",
    "import csv\n",
    "import matplotlib.pyplot as plt\n",
    "import time\n",
    "import pylab\n",
    "import math\n",
    "from scipy.stats import chi2"
   ]
  },
  {
   "cell_type": "code",
   "execution_count": 2,
   "metadata": {},
   "outputs": [],
   "source": [
    "data_info_emplacement = 'all/node_information.csv'\n",
    "training_set_emplacement = 'all/training_set.txt'\n",
    "testing_set_emplacement = 'all/testing_set.txt'"
   ]
  },
  {
   "cell_type": "code",
   "execution_count": 3,
   "metadata": {},
   "outputs": [],
   "source": [
    "def load_data_info(emplacement):\n",
    "    data_array = list(csv.reader(open(emplacement, \"r\")))\n",
    "    node_info = pd.DataFrame(data_array)\n",
    "    node_info.columns = ['id', 'Publication_year','Title','Authors','Journal','abstract']\n",
    "    node_info.set_index('id', inplace=True)\n",
    "    \n",
    "    return node_info"
   ]
  },
  {
   "cell_type": "code",
   "execution_count": 4,
   "metadata": {},
   "outputs": [],
   "source": [
    "def load_training_data(emplacement):\n",
    "    training_set = pd.read_csv(emplacement, header=None, sep=' ')\n",
    "    training_set.columns = ['article1','article2','link']\n",
    "    return training_set"
   ]
  },
  {
   "cell_type": "code",
   "execution_count": 5,
   "metadata": {},
   "outputs": [],
   "source": [
    "def load_testing_data(emplacement):\n",
    "    testing_set = pd.read_csv(emplacement, header=None, sep=' ')\n",
    "    testing_set.columns = ['article1','article2']\n",
    "    return testing_set"
   ]
  },
  {
   "cell_type": "code",
   "execution_count": 6,
   "metadata": {},
   "outputs": [],
   "source": [
    "node_info = load_data_info(data_info_emplacement)\n",
    "trng = load_training_data(training_set_emplacement)\n",
    "tstg = load_testing_data(testing_set_emplacement)"
   ]
  },
  {
   "cell_type": "code",
   "execution_count": 7,
   "metadata": {},
   "outputs": [],
   "source": [
    "def author_name_poundered_presence(node_info):   \n",
    "    d = author_occurence(node_info)\n",
    "    L = set(d.index.values)\n",
    "    data= pd.DataFrame(np.zeros([len(node_info), len(L)]), columns=L, index=node_info.index)\n",
    "    \n",
    "    for i in data.index:\n",
    "        for k in node_info.loc[i].Authors.lower().split(\",\"):\n",
    "            data.loc[i][k] = 4*chi2.pdf(d[k]/5,3)\n",
    "    \n",
    "    return data"
   ]
  },
  {
   "cell_type": "code",
   "execution_count": 8,
   "metadata": {},
   "outputs": [],
   "source": [
    "def author_occurence(node_info):\n",
    "    a = list(node_info.Authors.apply(lambda x: x.lower().split(\",\")).values)\n",
    "    L = []\n",
    "    for k in a:\n",
    "        for j in k:\n",
    "                L.append(j)\n",
    "    return pd.DataFrame(np.array(L))[0].value_counts()"
   ]
  },
  {
   "cell_type": "code",
   "execution_count": 9,
   "metadata": {},
   "outputs": [],
   "source": [
    "def word_occurence_abstract(node_info):\n",
    "    a = list(node_info.abstract.apply(lambda x: x.lower().split(\" \")).values)\n",
    "    L = []\n",
    "    for k in a:\n",
    "        for j in k:\n",
    "                L.append(j)\n",
    "    return pd.DataFrame(np.array(L))[0].value_counts()"
   ]
  },
  {
   "cell_type": "code",
   "execution_count": 10,
   "metadata": {},
   "outputs": [],
   "source": [
    "def abstract_word_poundered_presence(node_info):\n",
    "    d = word_occurence_abstract(node_info)\n",
    "    L = set(d.index.values)\n",
    "    data= pd.DataFrame(np.zeros([len(node_info), len(L)]), columns=L, index=node_info.index)\n",
    "    \n",
    "    for i in data.index:\n",
    "        l = pd.DataFrame(node_info.loc[i].abstract.lower().split(\" \"))[0].value_counts()\n",
    "        for k in l.index:\n",
    "            data.loc[i][k] = l[k] / np.log(1+d[k])\n",
    "    \n",
    "    return data\n",
    "    "
   ]
  },
  {
   "cell_type": "code",
   "execution_count": 11,
   "metadata": {},
   "outputs": [
    {
     "data": {
      "text/plain": [
       "<matplotlib.axes._subplots.AxesSubplot at 0x23bc57957f0>"
      ]
     },
     "execution_count": 11,
     "metadata": {},
     "output_type": "execute_result"
    },
    {
     "data": {
      "image/png": "[encoded data removed]",
      "text/plain": [
       "<Figure size 432x288 with 1 Axes>"
      ]
     },
     "metadata": {},
     "output_type": "display_data"
    }
   ],
   "source": [
    "node_info.Publication_year.value_counts().hist()"
   ]
  },
  {
   "cell_type": "markdown",
   "metadata": {},
   "source": [
    "### wordtovec, nltk"
   ]
  },
  {
   "cell_type": "code",
   "execution_count": null,
   "metadata": {},
   "outputs": [],
   "source": []
  }
 ],
 "metadata": {
  "kernelspec": {
   "display_name": "Python 3",
   "language": "python",
   "name": "python3"
  },
  "language_info": {
   "codemirror_mode": {
    "name": "ipython",
    "version": 3
   },
   "file_extension": ".py",
   "mimetype": "text/x-python",
   "name": "python",
   "nbconvert_exporter": "python",
   "pygments_lexer": "ipython3",
   "version": "3.6.5"
  }
 },
 "nbformat": 4,
 "nbformat_minor": 2
}
