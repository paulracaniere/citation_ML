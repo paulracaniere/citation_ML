{
 "cells": [
  {
   "cell_type": "code",
   "execution_count": 20,
   "metadata": {},
   "outputs": [],
   "source": [
    "import numpy as np\n",
    "import sklearn as skl\n",
    "import csv\n",
    "import nltk\n",
    "import pandas as pd"
   ]
  },
  {
   "cell_type": "code",
   "execution_count": 21,
   "metadata": {},
   "outputs": [],
   "source": [
    "def pourcentage_similarity(text1: str, text2: str):\n",
    "    '''\n",
    "    Function used to express similarity between two strings\n",
    "    '''\n",
    "    stop_words = set(nltk.corpus.stopwords.words('english'))\n",
    "    words1 = nltk.tokenize.word_tokenize(text1)\n",
    "    words2 = nltk.tokenize.word_tokenize(text2)\n",
    "\n",
    "    stemmer = nltk.stem.PorterStemmer()\n",
    "\n",
    "    new_sentence1 = []\n",
    "    new_sentence2 = []\n",
    "\n",
    "    for word in words1:\n",
    "        if word not in stop_words:\n",
    "            new_sentence1.append(stemmer.stem(word))\n",
    "\n",
    "    for word in words2:\n",
    "        if word not in stop_words:\n",
    "            new_sentence2.append(stemmer.stem(word))\n",
    "    \n",
    "    set1 = set(new_sentence1)\n",
    "    set2 = set(new_sentence2)\n",
    "    inter = set1.intersection(set2)\n",
    "    \n",
    "    return len(inter) / max(len(set1), len(set2))"
   ]
  },
  {
   "cell_type": "code",
   "execution_count": 58,
   "metadata": {},
   "outputs": [],
   "source": [
    "node_inf_raw = pd.read_csv(\"./node_information.csv\")\n",
    "node_inf = node_inf_raw.values\n",
    "for i in range(len(node_inf)):\n",
    "    if type(node_inf[i][3]) == float:\n",
    "        node_inf[i][3] = []\n",
    "    else:\n",
    "        node_inf[i][3] = node_inf[i][3].split(\", \")\n",
    "    \n",
    "    if type(node_inf[i][4]) == float:\n",
    "        node_inf[i][4] = ''"
   ]
  },
  {
   "cell_type": "code",
   "execution_count": 72,
   "metadata": {},
   "outputs": [],
   "source": [
    "from sklearn.feature_extraction.text import TfidfVectorizer\n",
    "# compute TFIDF vector of each paper\n",
    "corpus = [element[5] for element in node_inf]\n",
    "vectorizer = TfidfVectorizer(stop_words=\"english\")\n",
    "# each row is a node in the order of node_info\n",
    "features_TFIDF = vectorizer.fit_transform(corpus)"
   ]
  },
  {
   "cell_type": "code",
   "execution_count": 86,
   "metadata": {},
   "outputs": [
    {
     "name": "stdout",
     "output_type": "stream",
     "text": [
      "50\n"
     ]
    },
    {
     "data": {
      "text/plain": [
       "<1x25043 sparse matrix of type '<class 'numpy.float64'>'\n",
       "\twith 50 stored elements in Compressed Sparse Row format>"
      ]
     },
     "execution_count": 86,
     "metadata": {},
     "output_type": "execute_result"
    }
   ],
   "source": [
    "print(len([a for a in [features_TFIDF[0,i] for i in range(25043)] if a != 0.0]))\n",
    "features_TFIDF[0]"
   ]
  },
  {
   "cell_type": "code",
   "execution_count": null,
   "metadata": {},
   "outputs": [],
   "source": []
  }
 ],
 "metadata": {
  "kernelspec": {
   "display_name": "Python 3",
   "language": "python",
   "name": "python3"
  },
  "language_info": {
   "codemirror_mode": {
    "name": "ipython",
    "version": 3
   },
   "file_extension": ".py",
   "mimetype": "text/x-python",
   "name": "python",
   "nbconvert_exporter": "python",
   "pygments_lexer": "ipython3",
   "version": "3.6.6"
  }
 },
 "nbformat": 4,
 "nbformat_minor": 2
}
