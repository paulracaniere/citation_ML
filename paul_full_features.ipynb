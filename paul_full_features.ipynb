{
 "cells": [
  {
   "cell_type": "code",
   "execution_count": 1,
   "metadata": {},
   "outputs": [],
   "source": [
    "import numpy as np\n",
    "import sklearn as skl\n",
    "import csv\n",
    "import nltk\n",
    "import pandas as pd\n",
    "import matplotlib.pyplot as plt"
   ]
  },
  {
   "cell_type": "code",
   "execution_count": 2,
   "metadata": {},
   "outputs": [],
   "source": [
    "X_train = np.concatenate((np.array(pd.read_csv(\"./paul_train_features.csv\").values)[:,1:3], \n",
    "                         np.array(pd.read_csv(\"./paul_train_graph.csv\"))),\n",
    "                         axis=1)\n",
    "y_train = np.array(pd.read_csv(\"./paul_my_train.csv\"))[:,2]\n",
    "\n",
    "tmp = []\n",
    "for i in range(len(X_train)):\n",
    "    if X_train[i,2]==-1:\n",
    "        tmp.append([X_train[i,0], X_train[i,1], 20, X_train[i,3]])\n",
    "    else:\n",
    "        tmp.append([X_train[i,0], X_train[i,1], X_train[i,2], X_train[i,3]])\n",
    "\n",
    "X_train = np.array(tmp)\n",
    "\n",
    "X_test  = np.concatenate((np.array(pd.read_csv(\"./paul_test_features.csv\").values)[:,1:3], \n",
    "                         np.array(pd.read_csv(\"./paul_test_graph.csv\"))),\n",
    "                         axis=1)\n",
    "y_test = np.array(pd.read_csv(\"./paul_my_test.csv\"))[:,2]\n",
    "\n",
    "tmp = []\n",
    "for i in range(len(X_test)):\n",
    "    if X_test[i,2]==-1:\n",
    "        tmp.append([X_test[i,0], X_test[i,1], 20, X_test[i,3]])\n",
    "    else:\n",
    "        tmp.append([X_test[i,0], X_test[i,1], X_test[i,2], X_test[i,3]])\n",
    "\n",
    "X_test = np.array(tmp)"
   ]
  },
  {
   "cell_type": "code",
   "execution_count": 3,
   "metadata": {},
   "outputs": [
    {
     "name": "stdout",
     "output_type": "stream",
     "text": [
      "(492409, 4) (492409,) (123103, 4) (123103,)\n"
     ]
    }
   ],
   "source": [
    "print(X_train.shape, y_train.shape, X_test.shape, y_test.shape)"
   ]
  },
  {
   "cell_type": "code",
   "execution_count": 4,
   "metadata": {},
   "outputs": [
    {
     "name": "stderr",
     "output_type": "stream",
     "text": [
      "/Users/paulracaniere/anaconda3/lib/python3.6/site-packages/sklearn/ensemble/weight_boosting.py:29: DeprecationWarning: numpy.core.umath_tests is an internal NumPy module and should not be imported. It will be removed in a future NumPy release.\n",
      "  from numpy.core.umath_tests import inner1d\n"
     ]
    },
    {
     "data": {
      "text/plain": [
       "0.955289473042899"
      ]
     },
     "execution_count": 4,
     "metadata": {},
     "output_type": "execute_result"
    }
   ],
   "source": [
    "sample_size = 80000\n",
    "\n",
    "from sklearn.ensemble import AdaBoostClassifier\n",
    "csf = AdaBoostClassifier(learning_rate=1)\n",
    "csf.fit(X_train[:sample_size], y_train[:sample_size])\n",
    "csf.score(X_test, y_test)"
   ]
  },
  {
   "cell_type": "code",
   "execution_count": null,
   "metadata": {},
   "outputs": [],
   "source": [
    "sample_size = 100000\n",
    "\n",
    "from sklearn.ensemble import RandomForestClassifier\n",
    "csf = RandomForestClassifier()\n",
    "csf.fit(X_train[:sample_size], y_train[:sample_size])\n",
    "csf.score(X_test, y_test)"
   ]
  },
  {
   "cell_type": "code",
   "execution_count": null,
   "metadata": {},
   "outputs": [],
   "source": [
    "sample_size = 10000\n",
    "\n",
    "from sklearn.gaussian_process import GaussianProcessClassifier\n",
    "csf = GaussianProcessClassifier()\n",
    "csf.fit(X_train[:sample_size], y_train[:sample_size])\n",
    "csf.score(X_test, y_test)"
   ]
  },
  {
   "cell_type": "code",
   "execution_count": 16,
   "metadata": {},
   "outputs": [
    {
     "name": "stdout",
     "output_type": "stream",
     "text": [
      "[[0.50402551 0.49597449]\n",
      " [0.46857107 0.53142893]\n",
      " [0.46287442 0.53712558]\n",
      " ...\n",
      " [0.50990656 0.49009344]\n",
      " [0.51402666 0.48597334]\n",
      " [0.50990656 0.49009344]]\n"
     ]
    }
   ],
   "source": [
    "result = csf.predict_proba(np.concatenate((np.array(pd.read_csv(\"./paul_kaggle_features.csv\").values)[:,1:3],\n",
    "                            np.array(pd.read_csv(\"./paul_kaggle_graph.csv\"))),\n",
    "                            axis=1))\n",
    "print(result)"
   ]
  },
  {
   "cell_type": "code",
   "execution_count": 17,
   "metadata": {},
   "outputs": [
    {
     "name": "stdout",
     "output_type": "stream",
     "text": [
      "[0.49597449 0.53142893 0.53712558 ... 0.49009344 0.48597334 0.49009344]\n"
     ]
    }
   ],
   "source": [
    "result = result[:,1]\n",
    "print(result)"
   ]
  },
  {
   "cell_type": "code",
   "execution_count": 18,
   "metadata": {},
   "outputs": [
    {
     "name": "stdout",
     "output_type": "stream",
     "text": [
      "[0 1 1 ... 0 0 0]\n",
      "16334 32648\n"
     ]
    }
   ],
   "source": [
    "result = (result >= np.sort(result)[len(result)//2])*1\n",
    "print(result)\n",
    "print(sum(result),len(result))"
   ]
  },
  {
   "cell_type": "code",
   "execution_count": 19,
   "metadata": {},
   "outputs": [],
   "source": [
    "with open(\"./paul_prediction.csv\",\"w\") as f:\n",
    "    writer = csv.writer(f)\n",
    "    writer.writerow([\"ID\", \"category\"])\n",
    "    for i,a in enumerate(result):\n",
    "        writer.writerow([i,a])"
   ]
  },
  {
   "cell_type": "code",
   "execution_count": null,
   "metadata": {},
   "outputs": [],
   "source": []
  }
 ],
 "metadata": {
  "kernelspec": {
   "display_name": "Python 3",
   "language": "python",
   "name": "python3"
  },
  "language_info": {
   "codemirror_mode": {
    "name": "ipython",
    "version": 3
   },
   "file_extension": ".py",
   "mimetype": "text/x-python",
   "name": "python",
   "nbconvert_exporter": "python",
   "pygments_lexer": "ipython3",
   "version": "3.6.6"
  }
 },
 "nbformat": 4,
 "nbformat_minor": 2
}
