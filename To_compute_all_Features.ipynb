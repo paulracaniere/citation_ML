{
 "cells": [
  {
   "cell_type": "code",
   "execution_count": 2,
   "metadata": {},
   "outputs": [],
   "source": [
    "import AllGraphFunctions as GF\n",
    "import OtherFeaturesFunctions as FF"
   ]
  },
  {
   "cell_type": "code",
   "execution_count": 3,
   "metadata": {},
   "outputs": [],
   "source": [
    "import pandas as pd"
   ]
  },
  {
   "cell_type": "code",
   "execution_count": 4,
   "metadata": {},
   "outputs": [],
   "source": [
    "import csv\n",
    "\n",
    "with open(\"testing_set.txt\", \"r\") as f:\n",
    "    reader = csv.reader(f)\n",
    "    testing_set  = list(reader)\n",
    "\n",
    "testing_set = [element[0].split(\" \") for element in testing_set]\n",
    "\n",
    "with open(\"training_set.txt\", \"r\") as f:\n",
    "    reader = csv.reader(f)\n",
    "    training_set  = list(reader)\n",
    "\n",
    "training_set = [element[0].split(\" \") for element in training_set]\n",
    "\n",
    "with open(\"node_information.csv\", \"r\") as f:\n",
    "    reader = csv.reader(f)\n",
    "    node_info  = list(reader)\n",
    "\n",
    "IDs = [element[0] for element in node_info]"
   ]
  },
  {
   "cell_type": "code",
   "execution_count": 5,
   "metadata": {},
   "outputs": [
    {
     "name": "stdout",
     "output_type": "stream",
     "text": [
      "[nltk_data] Downloading package punkt to\n",
      "[nltk_data]     C:\\Users\\yayou\\AppData\\Roaming\\nltk_data...\n",
      "[nltk_data]   Package punkt is already up-to-date!\n",
      "[nltk_data] Downloading package stopwords to\n",
      "[nltk_data]     C:\\Users\\yayou\\AppData\\Roaming\\nltk_data...\n",
      "[nltk_data]   Package stopwords is already up-to-date!\n"
     ]
    }
   ],
   "source": [
    "stpwds, stemmer = FF.initialize_nltk()"
   ]
  },
  {
   "cell_type": "code",
   "execution_count": 6,
   "metadata": {},
   "outputs": [],
   "source": [
    "citation_set = training_set[:1000]"
   ]
  },
  {
   "cell_type": "code",
   "execution_count": 7,
   "metadata": {},
   "outputs": [
    {
     "name": "stdout",
     "output_type": "stream",
     "text": [
      "1 training examples processsed\n"
     ]
    }
   ],
   "source": [
    "TFIDF_abstract = FF.compute_TFIDF_abstract_feature(citation_set, node_info,IDs, stpwds)"
   ]
  },
  {
   "cell_type": "code",
   "execution_count": 8,
   "metadata": {},
   "outputs": [
    {
     "name": "stdout",
     "output_type": "stream",
     "text": [
      "1 training examples processsed\n"
     ]
    }
   ],
   "source": [
    "TFIDF_title = FF.compute_TFIDF_title_feature(citation_set, node_info, IDs, stpwds)"
   ]
  },
  {
   "cell_type": "code",
   "execution_count": 9,
   "metadata": {},
   "outputs": [
    {
     "name": "stdout",
     "output_type": "stream",
     "text": [
      "1 training examples processsed\n"
     ]
    }
   ],
   "source": [
    "Time_difference = FF.compute_temp_diff(citation_set, node_info, IDs)"
   ]
  },
  {
   "cell_type": "code",
   "execution_count": 10,
   "metadata": {},
   "outputs": [
    {
     "name": "stdout",
     "output_type": "stream",
     "text": [
      "1 training examples processsed\n"
     ]
    }
   ],
   "source": [
    "overlapping_titles = FF.compute_overlaping_titles(citation_set, node_info, IDs, stemmer, stpwds)"
   ]
  },
  {
   "cell_type": "code",
   "execution_count": 11,
   "metadata": {},
   "outputs": [
    {
     "name": "stdout",
     "output_type": "stream",
     "text": [
      "1 training examples processsed\n"
     ]
    }
   ],
   "source": [
    "number_of_common_auth = FF.compute_common_auth(citation_set, node_info, IDs)"
   ]
  },
  {
   "cell_type": "code",
   "execution_count": 12,
   "metadata": {},
   "outputs": [],
   "source": [
    "# bug sur la première valeur\n",
    "# articles_page_rank = FF.articles_page_rank_feature(citation_set, node_info, IDs)"
   ]
  },
  {
   "cell_type": "code",
   "execution_count": 13,
   "metadata": {},
   "outputs": [
    {
     "name": "stdout",
     "output_type": "stream",
     "text": [
      "1 training examples processsed\n"
     ]
    }
   ],
   "source": [
    "authors_page_rank = FF.authors_page_rank_feature(citation_set, node_info, IDs)"
   ]
  },
  {
   "cell_type": "code",
   "execution_count": 14,
   "metadata": {},
   "outputs": [],
   "source": [
    "# renvoie un array 27 000 au lieu de 1000\n",
    "# page_club = FF.page_club_feature(citation_set, node_info)"
   ]
  },
  {
   "cell_type": "code",
   "execution_count": 15,
   "metadata": {},
   "outputs": [],
   "source": [
    "# bug sur la première valeur\n",
    "# shorthest_path = FF.shorthest_path_feature(citation_set, node_info)"
   ]
  },
  {
   "cell_type": "code",
   "execution_count": 16,
   "metadata": {},
   "outputs": [
    {
     "name": "stdout",
     "output_type": "stream",
     "text": [
      "1 training examples processsed\n"
     ]
    }
   ],
   "source": [
    "author_affinity = FF.compute_author_affinity(citation_set, node_info, IDs)"
   ]
  },
  {
   "cell_type": "code",
   "execution_count": 17,
   "metadata": {},
   "outputs": [
    {
     "name": "stdout",
     "output_type": "stream",
     "text": [
      "1 training examples processsed\n"
     ]
    }
   ],
   "source": [
    "Journal = FF.compute_same_journal_or_not(citation_set, node_info)"
   ]
  },
  {
   "cell_type": "code",
   "execution_count": 18,
   "metadata": {},
   "outputs": [],
   "source": [
    "import numpy as np\n",
    "\n",
    "col = ['feature_TFIDF_abstract',\n",
    "      'feature_TFIDF_title',\n",
    "      'feature_time_difference',\n",
    "      'feature_overlapping_title',\n",
    "      'feature_common_author',\n",
    "      'feature_author_page_rank',\n",
    "      'feature_author_affinity',\n",
    "      'feature_journal']\n",
    "data_array = np.array([TFIDF_abstract,\n",
    "                TFIDF_title,\n",
    "                Time_difference,\n",
    "                overlapping_titles,\n",
    "                number_of_common_auth,\n",
    "                authors_page_rank,\n",
    "                author_affinity,\n",
    "                Journal])\n",
    "data_array = np.transpose(data_array)"
   ]
  },
  {
   "cell_type": "code",
   "execution_count": 19,
   "metadata": {},
   "outputs": [],
   "source": [
    "# créer un dataframe avec toutes les données\n",
    "data = pd.DataFrame(data_array, columns = col)\n",
    "\n",
    "# écris le dataframe en csv avec toutes les données dans le répertoire actuel\n",
    "data.to_csv('features.csv', index=0)\n",
    "\n",
    "# lis un fichier csv\n",
    "data_bis = pd.read_csv('features.csv', header=0)"
   ]
  },
  {
   "cell_type": "code",
   "execution_count": 20,
   "metadata": {},
   "outputs": [
    {
     "data": {
      "text/html": [
       "<div>\n",
       "<style scoped>\n",
       "    .dataframe tbody tr th:only-of-type {\n",
       "        vertical-align: middle;\n",
       "    }\n",
       "\n",
       "    .dataframe tbody tr th {\n",
       "        vertical-align: top;\n",
       "    }\n",
       "\n",
       "    .dataframe thead th {\n",
       "        text-align: right;\n",
       "    }\n",
       "</style>\n",
       "<table border=\"1\" class=\"dataframe\">\n",
       "  <thead>\n",
       "    <tr style=\"text-align: right;\">\n",
       "      <th></th>\n",
       "      <th>feature_TFIDF_abstract</th>\n",
       "      <th>feature_TFIDF_title</th>\n",
       "      <th>feature_time_difference</th>\n",
       "      <th>feature_overlapping_title</th>\n",
       "      <th>feature_common_author</th>\n",
       "      <th>feature_author_page_rank</th>\n",
       "      <th>feature_author_affinity</th>\n",
       "      <th>feature_journal</th>\n",
       "    </tr>\n",
       "  </thead>\n",
       "  <tbody>\n",
       "    <tr>\n",
       "      <th>0</th>\n",
       "      <td>1.349091</td>\n",
       "      <td>1.290807</td>\n",
       "      <td>0.0</td>\n",
       "      <td>2.0</td>\n",
       "      <td>0.0</td>\n",
       "      <td>0.038647</td>\n",
       "      <td>3.0</td>\n",
       "      <td>1.0</td>\n",
       "    </tr>\n",
       "    <tr>\n",
       "      <th>1</th>\n",
       "      <td>1.383222</td>\n",
       "      <td>1.414214</td>\n",
       "      <td>1.0</td>\n",
       "      <td>1.0</td>\n",
       "      <td>0.0</td>\n",
       "      <td>0.001800</td>\n",
       "      <td>4.0</td>\n",
       "      <td>0.0</td>\n",
       "    </tr>\n",
       "  </tbody>\n",
       "</table>\n",
       "</div>"
      ],
      "text/plain": [
       "   feature_TFIDF_abstract  feature_TFIDF_title  feature_time_difference  \\\n",
       "0                1.349091             1.290807                      0.0   \n",
       "1                1.383222             1.414214                      1.0   \n",
       "\n",
       "   feature_overlapping_title  feature_common_author  feature_author_page_rank  \\\n",
       "0                        2.0                    0.0                  0.038647   \n",
       "1                        1.0                    0.0                  0.001800   \n",
       "\n",
       "   feature_author_affinity  feature_journal  \n",
       "0                      3.0              1.0  \n",
       "1                      4.0              0.0  "
      ]
     },
     "execution_count": 20,
     "metadata": {},
     "output_type": "execute_result"
    }
   ],
   "source": [
    "# ça montre les deux premières lignes\n",
    "data_bis.head(2)"
   ]
  },
  {
   "cell_type": "code",
   "execution_count": 21,
   "metadata": {},
   "outputs": [
    {
     "data": {
      "text/plain": [
       "array([1.34909131, 1.29080743, 0.        , 2.        , 0.        ,\n",
       "       0.03864696, 3.        , 1.        ])"
      ]
     },
     "execution_count": 21,
     "metadata": {},
     "output_type": "execute_result"
    }
   ],
   "source": [
    "# avoir accès à la matrce des features, ici la première ligne\n",
    "data_bis.values[0]"
   ]
  }
 ],
 "metadata": {
  "kernelspec": {
   "display_name": "Python 3",
   "language": "python",
   "name": "python3"
  },
  "language_info": {
   "codemirror_mode": {
    "name": "ipython",
    "version": 3
   },
   "file_extension": ".py",
   "mimetype": "text/x-python",
   "name": "python",
   "nbconvert_exporter": "python",
   "pygments_lexer": "ipython3",
   "version": "3.6.5"
  }
 },
 "nbformat": 4,
 "nbformat_minor": 2
}
