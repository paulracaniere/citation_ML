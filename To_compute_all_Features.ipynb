{
 "cells": [
  {
   "cell_type": "code",
   "execution_count": 1,
   "metadata": {},
   "outputs": [
    {
     "name": "stderr",
     "output_type": "stream",
     "text": [
      "C:\\Users\\kingr\\Anaconda2\\lib\\site-packages\\gensim\\utils.py:1197: UserWarning: detected Windows; aliasing chunkize to chunkize_serial\n",
      "  warnings.warn(\"detected Windows; aliasing chunkize to chunkize_serial\")\n"
     ]
    }
   ],
   "source": [
    "import AllGraphFunctions as GF\n",
    "import OtherFeaturesFunctions as FF"
   ]
  },
  {
   "cell_type": "code",
   "execution_count": 2,
   "metadata": {
    "collapsed": true
   },
   "outputs": [],
   "source": [
    "import re\n",
    "import pandas as pd\n",
    "import numpy as np"
   ]
  },
  {
   "cell_type": "code",
   "execution_count": 3,
   "metadata": {},
   "outputs": [],
   "source": [
    "import csv\n",
    "\n",
    "#with open(\"testing_set.txt\", \"r\") as f:\n",
    "#    reader = csv.reader(f)\n",
    "#    testing_set  = list(reader)\n",
    "\n",
    "testing_set = np.array(pd.read_csv(\"./testing_set.txt\", delimiter=' ', header=None))\n",
    "training_set = np.array(pd.read_csv(\"./training_set.txt\", delimiter=' ', header=None))\n",
    "#print(testing_set)\n",
    "\n",
    "#testing_set = [element[0].split(\" \") for element in testing_set]\n",
    "\n",
    "#with open(\"training_set.txt\", \"r\") as f:\n",
    "#    reader = csv.reader(f)\n",
    "#    training_set  = list(reader)\n",
    "\n",
    "#training_set = [element[0].split(\" \") for element in training_set]\n",
    "\n",
    "node_info = np.array(pd.read_csv(\"./node_information.csv\"))\n",
    "\n",
    "IDs = [element[0] for element in node_info]"
   ]
  },
  {
   "cell_type": "code",
   "execution_count": 4,
   "metadata": {},
   "outputs": [
    {
     "name": "stdout",
     "output_type": "stream",
     "text": [
      "nan\n"
     ]
    },
    {
     "ename": "TypeError",
     "evalue": "expected string or buffer",
     "output_type": "error",
     "traceback": [
      "\u001b[1;31m\u001b[0m",
      "\u001b[1;31mTypeError\u001b[0mTraceback (most recent call last)",
      "\u001b[1;32m<ipython-input-4-2c6f4d9ebbd5>\u001b[0m in \u001b[0;36m<module>\u001b[1;34m()\u001b[0m\n\u001b[0;32m      1\u001b[0m \u001b[0mG\u001b[0m \u001b[1;33m=\u001b[0m \u001b[0mGF\u001b[0m\u001b[1;33m.\u001b[0m\u001b[0mgraph_articles\u001b[0m\u001b[1;33m(\u001b[0m\u001b[0mtraining_set\u001b[0m\u001b[1;33m,\u001b[0m \u001b[0mnode_info\u001b[0m\u001b[1;33m,\u001b[0m \u001b[0mdirected_or_not\u001b[0m \u001b[1;33m=\u001b[0m \u001b[1;34m'y'\u001b[0m\u001b[1;33m)\u001b[0m\u001b[1;33m\u001b[0m\u001b[0m\n\u001b[1;32m----> 2\u001b[1;33m \u001b[0mGauth\u001b[0m \u001b[1;33m=\u001b[0m \u001b[0mGF\u001b[0m\u001b[1;33m.\u001b[0m\u001b[0mgraph_authors\u001b[0m\u001b[1;33m(\u001b[0m\u001b[0mtraining_set\u001b[0m\u001b[1;33m,\u001b[0m \u001b[0mnode_info\u001b[0m\u001b[1;33m,\u001b[0m \u001b[0mIDs\u001b[0m\u001b[1;33m,\u001b[0m \u001b[0mdirected_or_not\u001b[0m \u001b[1;33m=\u001b[0m \u001b[1;34m'y'\u001b[0m\u001b[1;33m)\u001b[0m\u001b[1;33m\u001b[0m\u001b[0m\n\u001b[0m\u001b[0;32m      3\u001b[0m \u001b[0mGauthw\u001b[0m \u001b[1;33m=\u001b[0m \u001b[0mGF\u001b[0m\u001b[1;33m.\u001b[0m\u001b[0mgraph_authors_weight\u001b[0m\u001b[1;33m(\u001b[0m\u001b[0mtraining_set\u001b[0m\u001b[1;33m,\u001b[0m \u001b[0mnode_info\u001b[0m\u001b[1;33m,\u001b[0m \u001b[0mIDs\u001b[0m\u001b[1;33m,\u001b[0m \u001b[0mdirected_or_not\u001b[0m \u001b[1;33m=\u001b[0m \u001b[1;34m'y'\u001b[0m\u001b[1;33m)\u001b[0m\u001b[1;33m\u001b[0m\u001b[0m\n",
      "\u001b[1;32mC:\\Users\\kingr\\Github\\citation_ML\\AllGraphFunctions.py\u001b[0m in \u001b[0;36mgraph_authors\u001b[1;34m(citation_set, node_info, IDs, directed_or_not)\u001b[0m\n\u001b[0;32m     48\u001b[0m                                 re.sub(r',(?=[a-z])', '',\n\u001b[0;32m     49\u001b[0m                                        re.sub(r'\\([^)]*\\)?', '',\n\u001b[1;32m---> 50\u001b[1;33m                                               re.sub(r' ', '' , node_info[reverse_index[source],3])))).split(\",\")\n\u001b[0m\u001b[0;32m     51\u001b[0m         \u001b[1;32melse\u001b[0m\u001b[1;33m:\u001b[0m\u001b[1;33m\u001b[0m\u001b[0m\n\u001b[0;32m     52\u001b[0m             \u001b[0msource_authors\u001b[0m \u001b[1;33m=\u001b[0m \u001b[1;33m[\u001b[0m\u001b[1;33m]\u001b[0m\u001b[1;33m\u001b[0m\u001b[0m\n",
      "\u001b[1;32mC:\\Users\\kingr\\Anaconda2\\lib\\re.pyc\u001b[0m in \u001b[0;36msub\u001b[1;34m(pattern, repl, string, count, flags)\u001b[0m\n\u001b[0;32m    153\u001b[0m     \u001b[0ma\u001b[0m \u001b[0mcallable\u001b[0m\u001b[1;33m,\u001b[0m \u001b[0mit\u001b[0m\u001b[0;31m'\u001b[0m\u001b[0ms\u001b[0m \u001b[0mpassed\u001b[0m \u001b[0mthe\u001b[0m \u001b[0mmatch\u001b[0m \u001b[0mobject\u001b[0m \u001b[1;32mand\u001b[0m \u001b[0mmust\u001b[0m \u001b[1;32mreturn\u001b[0m\u001b[1;33m\u001b[0m\u001b[0m\n\u001b[0;32m    154\u001b[0m     a replacement string to be used.\"\"\"\n\u001b[1;32m--> 155\u001b[1;33m     \u001b[1;32mreturn\u001b[0m \u001b[0m_compile\u001b[0m\u001b[1;33m(\u001b[0m\u001b[0mpattern\u001b[0m\u001b[1;33m,\u001b[0m \u001b[0mflags\u001b[0m\u001b[1;33m)\u001b[0m\u001b[1;33m.\u001b[0m\u001b[0msub\u001b[0m\u001b[1;33m(\u001b[0m\u001b[0mrepl\u001b[0m\u001b[1;33m,\u001b[0m \u001b[0mstring\u001b[0m\u001b[1;33m,\u001b[0m \u001b[0mcount\u001b[0m\u001b[1;33m)\u001b[0m\u001b[1;33m\u001b[0m\u001b[0m\n\u001b[0m\u001b[0;32m    156\u001b[0m \u001b[1;33m\u001b[0m\u001b[0m\n\u001b[0;32m    157\u001b[0m \u001b[1;32mdef\u001b[0m \u001b[0msubn\u001b[0m\u001b[1;33m(\u001b[0m\u001b[0mpattern\u001b[0m\u001b[1;33m,\u001b[0m \u001b[0mrepl\u001b[0m\u001b[1;33m,\u001b[0m \u001b[0mstring\u001b[0m\u001b[1;33m,\u001b[0m \u001b[0mcount\u001b[0m\u001b[1;33m=\u001b[0m\u001b[1;36m0\u001b[0m\u001b[1;33m,\u001b[0m \u001b[0mflags\u001b[0m\u001b[1;33m=\u001b[0m\u001b[1;36m0\u001b[0m\u001b[1;33m)\u001b[0m\u001b[1;33m:\u001b[0m\u001b[1;33m\u001b[0m\u001b[0m\n",
      "\u001b[1;31mTypeError\u001b[0m: expected string or buffer"
     ]
    }
   ],
   "source": [
    "G = GF.graph_articles(training_set, node_info, directed_or_not = 'y')\n",
    "Gauth = GF.graph_authors(training_set, node_info, IDs, directed_or_not = 'y')\n",
    "Gauthw = GF.graph_authors_weight(training_set, node_info, IDs, directed_or_not = 'y')"
   ]
  },
  {
   "cell_type": "code",
   "execution_count": 1,
   "metadata": {},
   "outputs": [
    {
     "ename": "NameError",
     "evalue": "name 'FF' is not defined",
     "output_type": "error",
     "traceback": [
      "\u001b[1;31m\u001b[0m",
      "\u001b[1;31mNameError\u001b[0mTraceback (most recent call last)",
      "\u001b[1;32m<ipython-input-1-05133d15e543>\u001b[0m in \u001b[0;36m<module>\u001b[1;34m()\u001b[0m\n\u001b[1;32m----> 1\u001b[1;33m \u001b[0mstpwds\u001b[0m\u001b[1;33m,\u001b[0m \u001b[0mstemmer\u001b[0m \u001b[1;33m=\u001b[0m \u001b[0mFF\u001b[0m\u001b[1;33m.\u001b[0m\u001b[0minitialize_nltk\u001b[0m\u001b[1;33m(\u001b[0m\u001b[1;33m)\u001b[0m\u001b[1;33m\u001b[0m\u001b[0m\n\u001b[0m",
      "\u001b[1;31mNameError\u001b[0m: name 'FF' is not defined"
     ]
    }
   ],
   "source": [
    "stpwds, stemmer = FF.initialize_nltk()"
   ]
  },
  {
   "cell_type": "code",
   "execution_count": null,
   "metadata": {
    "collapsed": true
   },
   "outputs": [],
   "source": [
    "citation_set = training_set[:1000]"
   ]
  },
  {
   "cell_type": "code",
   "execution_count": null,
   "metadata": {},
   "outputs": [],
   "source": [
    "TFIDF_abstract = FF.compute_TFIDF_abstract_feature(citation_set, node_info,IDs, stpwds)"
   ]
  },
  {
   "cell_type": "code",
   "execution_count": null,
   "metadata": {},
   "outputs": [],
   "source": [
    "TFIDF_title = FF.compute_TFIDF_title_feature(citation_set, node_info, IDs, stpwds)"
   ]
  },
  {
   "cell_type": "code",
   "execution_count": null,
   "metadata": {},
   "outputs": [],
   "source": [
    "Time_difference = FF.compute_temp_diff(citation_set, node_info, IDs)"
   ]
  },
  {
   "cell_type": "code",
   "execution_count": null,
   "metadata": {},
   "outputs": [],
   "source": [
    "overlapping_titles = FF.compute_overlaping_titles(citation_set, node_info, IDs, stemmer, stpwds)"
   ]
  },
  {
   "cell_type": "code",
   "execution_count": null,
   "metadata": {},
   "outputs": [],
   "source": [
    "number_of_common_auth = FF.compute_common_auth(citation_set, node_info, IDs)"
   ]
  },
  {
   "cell_type": "code",
   "execution_count": null,
   "metadata": {
    "collapsed": true
   },
   "outputs": [],
   "source": [
    "h_index = FF.h_index(citation_set, node_info, G)"
   ]
  },
  {
   "cell_type": "code",
   "execution_count": null,
   "metadata": {},
   "outputs": [],
   "source": [
    "# bug sur la première valeur\n",
    "articles_page_rank = FF.articles_page_rank_feature(citation_set, node_info, G, IDs)"
   ]
  },
  {
   "cell_type": "code",
   "execution_count": null,
   "metadata": {},
   "outputs": [],
   "source": [
    "authors_page_rank = FF.authors_page_rank_feature(citation_set, node_info, Gauth, IDs)"
   ]
  },
  {
   "cell_type": "code",
   "execution_count": null,
   "metadata": {
    "collapsed": true
   },
   "outputs": [],
   "source": [
    "# renvoie un array 27 000 au lieu de 1000\n",
    "page_club = FF.page_club_feature(citation_set, node_info, G)"
   ]
  },
  {
   "cell_type": "code",
   "execution_count": null,
   "metadata": {
    "collapsed": true
   },
   "outputs": [],
   "source": [
    "# bug sur la première valeur\n",
    "shorthest_path = FF.shorthest_path_feature(citation_set, node_info, G)"
   ]
  },
  {
   "cell_type": "code",
   "execution_count": null,
   "metadata": {},
   "outputs": [],
   "source": [
    "author_affinity = FF.compute_author_affinity(citation_set, node_info, Gauthw,IDs)"
   ]
  },
  {
   "cell_type": "code",
   "execution_count": null,
   "metadata": {},
   "outputs": [],
   "source": [
    "Journal = FF.compute_same_journal_or_not(citation_set, node_info)"
   ]
  },
  {
   "cell_type": "code",
   "execution_count": null,
   "metadata": {
    "collapsed": true
   },
   "outputs": [],
   "source": [
    "title_doc2voc = FF.title_doc2voc(node_info, citation_set)"
   ]
  },
  {
   "cell_type": "code",
   "execution_count": null,
   "metadata": {
    "collapsed": true
   },
   "outputs": [],
   "source": [
    "abstract_doc2voc = FF.abstract_doc2voc(node_info, citation_set)"
   ]
  },
  {
   "cell_type": "code",
   "execution_count": null,
   "metadata": {
    "collapsed": true
   },
   "outputs": [],
   "source": [
    "import numpy as np\n",
    "\n",
    "col = ['feature_TFIDF_abstract',\n",
    "      'feature_TFIDF_title',\n",
    "      'feature_time_difference',\n",
    "      'feature_overlapping_title',\n",
    "      'feature_common_author',\n",
    "      'feature_h_index',\n",
    "      'feature_articles_page_rank'\n",
    "      'feature_author_page_rank',\n",
    "      'feature_page_club',\n",
    "      'feature_shorthest_path',\n",
    "      'feature_author_affinity',\n",
    "      'feature_journal',\n",
    "      'feature_title_doc2voc',\n",
    "      'feature_abstract_doc2voc']\n",
    "data_array = np.array([TFIDF_abstract,\n",
    "                TFIDF_title,\n",
    "                Time_difference,\n",
    "                overlapping_titles,\n",
    "                number_of_common_auth,\n",
    "                h_index,\n",
    "                articles_page_rank,\n",
    "                authors_page_rank,\n",
    "                page_club,\n",
    "                shorthest_path,\n",
    "                author_affinity,\n",
    "                Journal,\n",
    "                title_doc2voc,\n",
    "                abstract_doc2voc])\n",
    "data_array = np.transpose(data_array)"
   ]
  },
  {
   "cell_type": "code",
   "execution_count": 19,
   "metadata": {
    "collapsed": true
   },
   "outputs": [],
   "source": [
    "# créer un dataframe avec toutes les données\n",
    "data = pd.DataFrame(data_array, columns = col)\n",
    "\n",
    "# écris le dataframe en csv avec toutes les données dans le répertoire actuel\n",
    "data.to_csv('features.csv', index=0)\n",
    "\n",
    "# lis un fichier csv\n",
    "data_bis = pd.read_csv('features.csv', header=0)"
   ]
  },
  {
   "cell_type": "code",
   "execution_count": 20,
   "metadata": {},
   "outputs": [
    {
     "data": {
      "text/html": [
       "<div>\n",
       "<style scoped>\n",
       "    .dataframe tbody tr th:only-of-type {\n",
       "        vertical-align: middle;\n",
       "    }\n",
       "\n",
       "    .dataframe tbody tr th {\n",
       "        vertical-align: top;\n",
       "    }\n",
       "\n",
       "    .dataframe thead th {\n",
       "        text-align: right;\n",
       "    }\n",
       "</style>\n",
       "<table border=\"1\" class=\"dataframe\">\n",
       "  <thead>\n",
       "    <tr style=\"text-align: right;\">\n",
       "      <th></th>\n",
       "      <th>feature_TFIDF_abstract</th>\n",
       "      <th>feature_TFIDF_title</th>\n",
       "      <th>feature_time_difference</th>\n",
       "      <th>feature_overlapping_title</th>\n",
       "      <th>feature_common_author</th>\n",
       "      <th>feature_author_page_rank</th>\n",
       "      <th>feature_author_affinity</th>\n",
       "      <th>feature_journal</th>\n",
       "    </tr>\n",
       "  </thead>\n",
       "  <tbody>\n",
       "    <tr>\n",
       "      <th>0</th>\n",
       "      <td>1.349091</td>\n",
       "      <td>1.290807</td>\n",
       "      <td>0.0</td>\n",
       "      <td>2.0</td>\n",
       "      <td>0.0</td>\n",
       "      <td>0.038647</td>\n",
       "      <td>3.0</td>\n",
       "      <td>1.0</td>\n",
       "    </tr>\n",
       "    <tr>\n",
       "      <th>1</th>\n",
       "      <td>1.383222</td>\n",
       "      <td>1.414214</td>\n",
       "      <td>1.0</td>\n",
       "      <td>1.0</td>\n",
       "      <td>0.0</td>\n",
       "      <td>0.001800</td>\n",
       "      <td>4.0</td>\n",
       "      <td>0.0</td>\n",
       "    </tr>\n",
       "  </tbody>\n",
       "</table>\n",
       "</div>"
      ],
      "text/plain": [
       "   feature_TFIDF_abstract  feature_TFIDF_title  feature_time_difference  \\\n",
       "0                1.349091             1.290807                      0.0   \n",
       "1                1.383222             1.414214                      1.0   \n",
       "\n",
       "   feature_overlapping_title  feature_common_author  feature_author_page_rank  \\\n",
       "0                        2.0                    0.0                  0.038647   \n",
       "1                        1.0                    0.0                  0.001800   \n",
       "\n",
       "   feature_author_affinity  feature_journal  \n",
       "0                      3.0              1.0  \n",
       "1                      4.0              0.0  "
      ]
     },
     "execution_count": 20,
     "metadata": {},
     "output_type": "execute_result"
    }
   ],
   "source": [
    "# ça montre les deux premières lignes\n",
    "data_bis.head(2)"
   ]
  },
  {
   "cell_type": "code",
   "execution_count": 21,
   "metadata": {},
   "outputs": [
    {
     "data": {
      "text/plain": [
       "array([1.34909131, 1.29080743, 0.        , 2.        , 0.        ,\n",
       "       0.03864696, 3.        , 1.        ])"
      ]
     },
     "execution_count": 21,
     "metadata": {},
     "output_type": "execute_result"
    }
   ],
   "source": [
    "# avoir accès à la matrce des features, ici la première ligne\n",
    "data_bis.values[0]"
   ]
  }
 ],
 "metadata": {
  "kernelspec": {
   "display_name": "Python 2",
   "language": "python",
   "name": "python2"
  },
  "language_info": {
   "codemirror_mode": {
    "name": "ipython",
    "version": 2
   },
   "file_extension": ".py",
   "mimetype": "text/x-python",
   "name": "python",
   "nbconvert_exporter": "python",
   "pygments_lexer": "ipython2",
   "version": "2.7.14"
  }
 },
 "nbformat": 4,
 "nbformat_minor": 2
}
