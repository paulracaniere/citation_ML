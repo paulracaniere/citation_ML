{
 "cells": [
  {
   "cell_type": "code",
   "execution_count": 1,
   "metadata": {
    "collapsed": true
   },
   "outputs": [],
   "source": [
    "import random\n",
    "import numpy as np\n",
    "\n",
    "from sklearn import svm\n",
    "from sklearn.feature_extraction.text import TfidfVectorizer\n",
    "\n",
    "from sklearn import preprocessing\n",
    "import nltk\n",
    "import csv"
   ]
  },
  {
   "cell_type": "code",
   "execution_count": 2,
   "metadata": {},
   "outputs": [
    {
     "name": "stdout",
     "output_type": "stream",
     "text": [
      "[nltk_data] Downloading package punkt to\n",
      "[nltk_data]     C:\\Users\\yayou\\AppData\\Roaming\\nltk_data...\n",
      "[nltk_data]   Package punkt is already up-to-date!\n",
      "[nltk_data] Downloading package stopwords to\n",
      "[nltk_data]     C:\\Users\\yayou\\AppData\\Roaming\\nltk_data...\n",
      "[nltk_data]   Package stopwords is already up-to-date!\n"
     ]
    }
   ],
   "source": [
    "nltk.download('punkt') # for tokenization\n",
    "nltk.download('stopwords')\n",
    "stpwds = set(nltk.corpus.stopwords.words(\"english\"))\n",
    "stemmer = nltk.stem.PorterStemmer()"
   ]
  },
  {
   "cell_type": "code",
   "execution_count": 3,
   "metadata": {
    "collapsed": true
   },
   "outputs": [],
   "source": [
    "with open(\"testing_set.txt\", \"r\") as f:\n",
    "    reader = csv.reader(f)\n",
    "    testing_set  = list(reader)\n",
    "\n",
    "testing_set = [element[0].split(\" \") for element in testing_set]"
   ]
  },
  {
   "cell_type": "code",
   "execution_count": 6,
   "metadata": {
    "collapsed": true
   },
   "outputs": [],
   "source": [
    "with open(\"random_predictions.csv\",\"w\") as pred:\n",
    "    csv_out = csv.writer(pred)\n",
    "    for row in random_predictions:\n",
    "        csv_out.writerow(row)"
   ]
  },
  {
   "cell_type": "code",
   "execution_count": 7,
   "metadata": {
    "collapsed": true
   },
   "outputs": [],
   "source": [
    "with open(\"training_set.txt\", \"r\") as f:\n",
    "    reader = csv.reader(f)\n",
    "    training_set  = list(reader)\n",
    "\n",
    "training_set = [element[0].split(\" \") for element in training_set]"
   ]
  },
  {
   "cell_type": "code",
   "execution_count": 8,
   "metadata": {
    "collapsed": true
   },
   "outputs": [],
   "source": [
    "with open(\"node_information.csv\", \"r\") as f:\n",
    "    reader = csv.reader(f)\n",
    "    node_info  = list(reader)\n",
    "\n",
    "IDs = [element[0] for element in node_info]"
   ]
  },
  {
   "cell_type": "code",
   "execution_count": 9,
   "metadata": {
    "collapsed": true
   },
   "outputs": [],
   "source": [
    "# computes the TFIDF features from the abstract\n",
    "\n",
    "corpus = [element[5] for element in node_info]\n",
    "vectorizer = TfidfVectorizer(stop_words=\"english\")\n",
    "features_TFIDF = vectorizer.fit_transform(corpus)"
   ]
  },
  {
   "cell_type": "code",
   "execution_count": 10,
   "metadata": {
    "collapsed": true
   },
   "outputs": [],
   "source": [
    "def compute_features(citation_set, IDs, node_info, stpwds, features_TFIDF):\n",
    "    overlap_title = []\n",
    "    temp_diff = []\n",
    "    comm_auth = []\n",
    "    dist = []\n",
    "\n",
    "    counter = 0\n",
    "    for i in range(len(citation_set)):\n",
    "        source = citation_set[i][0]\n",
    "        target = citation_set[i][1]\n",
    "\n",
    "        index_source = IDs.index(source)\n",
    "        index_target = IDs.index(target)\n",
    "\n",
    "        source_info = [element for element in node_info if element[0]==source][0]\n",
    "        target_info = [element for element in node_info if element[0]==target][0]\n",
    "\n",
    "        # convert to lowercase and tokenize\n",
    "        source_title = source_info[2].lower().split(\" \")\n",
    "        # remove stopwords\n",
    "        source_title = [token for token in source_title if token not in stpwds]\n",
    "        source_title = [stemmer.stem(token) for token in source_title]\n",
    "\n",
    "        target_title = target_info[2].lower().split(\" \")\n",
    "        target_title = [token for token in target_title if token not in stpwds]\n",
    "        target_title = [stemmer.stem(token) for token in target_title]\n",
    "\n",
    "        source_auth = source_info[3].split(\",\")\n",
    "        target_auth = target_info[3].split(\",\")\n",
    "\n",
    "        overlap_title.append(\n",
    "            len(set(source_title).intersection(set(target_title)))\n",
    "        )\n",
    "        temp_diff.append(\n",
    "            int(source_info[1]) - int(target_info[1])\n",
    "        )\n",
    "        comm_auth.append(\n",
    "            len(set(source_auth).intersection(set(target_auth)))\n",
    "        )\n",
    "        dist.append(\n",
    "            np.linalg.norm(\n",
    "                (features_TFIDF[IDs.index(source)]-features_TFIDF[IDs.index(target)]\n",
    "                ).toarray()\n",
    "            )\n",
    "        )\n",
    "\n",
    "        counter += 1\n",
    "        if counter % 5000 == True:\n",
    "            print(counter, \"training examples processsed\")\n",
    "            \n",
    "    overlap_title = np.array(overlap_title)\n",
    "    overlap_title = preprocessing.scale(overlap_title)\n",
    "    temp_diff = np.array(temp_diff)\n",
    "    temp_diff = preprocessing.scale(temp_diff)\n",
    "    comm_auth = np.array(comm_auth)\n",
    "    comm_auth = preprocessing.scale(comm_auth)\n",
    "    dist = np.array(dist)\n",
    "        \n",
    "    features = np.array([overlap_title, temp_diff, comm_auth, dist])\n",
    "        \n",
    "    return np.array([[features[0][j], \n",
    "                      features[1][j], \n",
    "                      features[2][j], \n",
    "                      features[3][j]] for j in range(features.shape[1])])\n",
    "            \n",
    "        "
   ]
  },
  {
   "cell_type": "markdown",
   "metadata": {},
   "source": [
    "##### generates training features and labels from a reduced training sample"
   ]
  },
  {
   "cell_type": "code",
   "execution_count": 11,
   "metadata": {},
   "outputs": [
    {
     "name": "stdout",
     "output_type": "stream",
     "text": [
      "1 training examples processsed\n",
      "5001 training examples processsed\n",
      "10001 training examples processsed\n",
      "15001 training examples processsed\n",
      "20001 training examples processsed\n",
      "25001 training examples processsed\n",
      "30001 training examples processsed\n"
     ]
    },
    {
     "name": "stderr",
     "output_type": "stream",
     "text": [
      "C:\\Users\\yayou\\Anaconda3\\lib\\site-packages\\sklearn\\utils\\validation.py:475: DataConversionWarning: Data with input dtype int32 was converted to float64 by the scale function.\n",
      "  warnings.warn(msg, DataConversionWarning)\n"
     ]
    }
   ],
   "source": [
    "to_keep = random.sample(range(len(training_set)), k=int(round(len(training_set)*0.05)))\n",
    "training_set_reduced = [training_set[i] for i in to_keep]\n",
    "\n",
    "training_features = compute_features(training_set_reduced, IDs, node_info, stpwds, features_TFIDF)\n",
    "\n",
    "labels = [int(element[2]) for element in training_set_reduced]\n",
    "labels = list(labels)\n",
    "labels_array = np.array(labels)"
   ]
  },
  {
   "cell_type": "markdown",
   "metadata": {},
   "source": [
    "##### generates testing features and labels from a reduced testing sample from the main training sample"
   ]
  },
  {
   "cell_type": "code",
   "execution_count": 12,
   "metadata": {},
   "outputs": [
    {
     "name": "stdout",
     "output_type": "stream",
     "text": [
      "1 training examples processsed\n",
      "5001 training examples processsed\n",
      "10001 training examples processsed\n",
      "15001 training examples processsed\n",
      "20001 training examples processsed\n",
      "25001 training examples processsed\n",
      "30001 training examples processsed\n"
     ]
    },
    {
     "name": "stderr",
     "output_type": "stream",
     "text": [
      "C:\\Users\\yayou\\Anaconda3\\lib\\site-packages\\sklearn\\utils\\validation.py:475: DataConversionWarning: Data with input dtype int32 was converted to float64 by the scale function.\n",
      "  warnings.warn(msg, DataConversionWarning)\n"
     ]
    }
   ],
   "source": [
    "to_keep2 = random.sample(range(len(training_set)),\n",
    "                         k=int(round(len(training_set)*0.05)))\n",
    "training_set_reduced2 = [training_set[i] for i in to_keep2]\n",
    "\n",
    "testing_features = compute_features(training_set_reduced2, \n",
    "                                    IDs, \n",
    "                                    node_info, \n",
    "                                    stpwds, \n",
    "                                    features_TFIDF)\n",
    "\n",
    "labels_test = [int(element[2]) for element in training_set_reduced2]\n",
    "labels_test = list(labels_test)\n",
    "labels_test_array = np.array(labels_test)"
   ]
  },
  {
   "cell_type": "markdown",
   "metadata": {},
   "source": [
    "### using a SVC"
   ]
  },
  {
   "cell_type": "code",
   "execution_count": 13,
   "metadata": {},
   "outputs": [
    {
     "name": "stdout",
     "output_type": "stream",
     "text": [
      "loss:  0.8303223290876007\n"
     ]
    }
   ],
   "source": [
    "classifier = svm.LinearSVC()\n",
    "classifier.fit(training_features, labels_array)\n",
    "\n",
    "predictions_SVM = classifier.predict(testing_features)\n",
    "\n",
    "print('loss: ', 1-((labels_test_array - predictions_SVM)**2).mean())"
   ]
  },
  {
   "cell_type": "markdown",
   "metadata": {},
   "source": [
    "### using a NN"
   ]
  },
  {
   "cell_type": "code",
   "execution_count": 17,
   "metadata": {},
   "outputs": [
    {
     "name": "stderr",
     "output_type": "stream",
     "text": [
      "C:\\Users\\yayou\\Anaconda3\\lib\\site-packages\\h5py\\__init__.py:36: FutureWarning: Conversion of the second argument of issubdtype from `float` to `np.floating` is deprecated. In future, it will be treated as `np.float64 == np.dtype(float).type`.\n",
      "  from ._conv import register_converters as _register_converters\n",
      "Using TensorFlow backend.\n"
     ]
    }
   ],
   "source": [
    "from keras import models\n",
    "from keras.layers import Dense, Dropout, Flatten\n",
    "\n",
    "# pip install livelossplot \n",
    "import livelossplot\n",
    "plot_losses = livelossplot.PlotLossesKeras()\n",
    "\n",
    "BATCH_SIZE = 1000\n",
    "EPOCHS = 100"
   ]
  },
  {
   "cell_type": "code",
   "execution_count": 18,
   "metadata": {},
   "outputs": [
    {
     "data": {
      "image/png": "[encoded data removed]",
      "text/plain": [
       "<Figure size 864x576 with 2 Axes>"
      ]
     },
     "metadata": {},
     "output_type": "display_data"
    },
    {
     "name": "stdout",
     "output_type": "stream",
     "text": [
      "Mean squared error (cost function):\n",
      "training   (min:    0.456, max:    0.456, cur:    0.456)\n",
      "validation (min:    0.457, max:    0.457, cur:    0.457)\n",
      "\n",
      "Accuracy:\n",
      "training   (min:    0.544, max:    0.544, cur:    0.544)\n",
      "validation (min:    0.543, max:    0.543, cur:    0.543)\n",
      "Test loss: 0.457466857283649\n",
      "Test accuracy: 0.5425331426931103\n"
     ]
    }
   ],
   "source": [
    "# defines the model\n",
    "\n",
    "NN = models.Sequential()\n",
    "NN.add(Dense(5, activation='relu', input_shape=(4,)))\n",
    "NN.add(Dropout(0.05))\n",
    "NN.add(Dense(5, activation='relu'))\n",
    "NN.add(Dropout(0.25))\n",
    "NN.add(Dense(1, activation='softmax'))\n",
    "\n",
    "NN.compile(optimizer='rmsprop',\n",
    "              loss='mean_squared_error',\n",
    "              metrics=['accuracy'])\n",
    "\n",
    "# trains and plots the evolution of the loss\n",
    "NN.fit(training_features, labels_array,\n",
    "          batch_size=BATCH_SIZE,\n",
    "          epochs=EPOCHS,\n",
    "          callbacks=[plot_losses],\n",
    "          verbose=1,\n",
    "          validation_data=(testing_features, labels_test_array))\n",
    "\n",
    "score = NN.evaluate(testing_features, labels_test_array, verbose=0)\n",
    "print('Test loss:', score[0])\n",
    "print('Test accuracy:', score[1])"
   ]
  },
  {
   "cell_type": "markdown",
   "metadata": {},
   "source": [
    "### Clustering based on Abstract TFIDF features "
   ]
  },
  {
   "cell_type": "code",
   "execution_count": 14,
   "metadata": {
    "collapsed": true
   },
   "outputs": [],
   "source": [
    "from sklearn.cluster import DBSCAN\n",
    "from sklearn import metrics\n",
    "from sklearn.preprocessing import StandardScaler"
   ]
  },
  {
   "cell_type": "code",
   "execution_count": 36,
   "metadata": {},
   "outputs": [
    {
     "data": {
      "text/plain": [
       "(0.0010130230423328612, 0.0011125805248184406)"
      ]
     },
     "execution_count": 36,
     "metadata": {},
     "output_type": "execute_result"
    }
   ],
   "source": [
    "from time import clock\n",
    "from scipy.sparse.linalg import norm\n",
    "\n",
    "t1 = clock()\n",
    "np.linalg.norm((features_TFIDF[0]-features_TFIDF[6]).toarray())\n",
    "t2 = clock()\n",
    "t3 = clock()\n",
    "norm(features_TFIDF[0]-features_TFIDF[6])\n",
    "t4 = clock()\n",
    "(t2 - t1), (t4-t3)"
   ]
  },
  {
   "cell_type": "markdown",
   "metadata": {},
   "source": [
    "### Graph part"
   ]
  },
  {
   "cell_type": "code",
   "execution_count": 15,
   "metadata": {
    "collapsed": true
   },
   "outputs": [],
   "source": [
    "import networkx as nx"
   ]
  },
  {
   "cell_type": "code",
   "execution_count": 16,
   "metadata": {
    "collapsed": true
   },
   "outputs": [],
   "source": [
    "def compute_graph_authors(citation_set, IDs, node_info, directed_or_not='y'):\n",
    "    if directed_or_not == 'y':\n",
    "        G = nx.DiGraph()\n",
    "    else:\n",
    "        G = nx.Graph()\n",
    "\n",
    "    counter = 0\n",
    "    for i in range(len(citation_set)):\n",
    "        source = citation_set[i][0]\n",
    "        target = citation_set[i][1]\n",
    "        \n",
    "        index_source = IDs.index(source)\n",
    "        index_target = IDs.index(target)\n",
    "\n",
    "        source_info = [element for element in node_info if element[0]==source][0]\n",
    "        target_info = [element for element in node_info if element[0]==target][0]\n",
    "\n",
    "        '''\n",
    "        source_title = source_info[2].lower().split(\" \")\n",
    "        \n",
    "        source_title = [token for token in source_title if token not in stpwds]\n",
    "        source_title = [stemmer.stem(token) for token in source_title]\n",
    "\n",
    "        target_title = target_info[2].lower().split(\" \")\n",
    "        target_title = [token for token in target_title if token not in stpwds]\n",
    "        target_title = [stemmer.stem(token) for token in target_title]\n",
    "        '''\n",
    "\n",
    "        source_auth = source_info[3].split(\",\")\n",
    "        target_auth = target_info[3].split(\",\")\n",
    "        \n",
    "        if citation_set[i][2] == '1':\n",
    "            for auth1 in source_auth:\n",
    "                for auth2 in target_auth:\n",
    "                    G.add_edge(auth1, auth2)\n",
    "        else:\n",
    "            for auth1 in source_auth:\n",
    "                for auth2 in target_auth:\n",
    "                    G.add_node(auth1)\n",
    "                    G.add_node(auth2)\n",
    "                \n",
    "        counter += 1\n",
    "        if counter % 5000 == True:\n",
    "            print(counter, \"training examples processsed\")\n",
    "        \n",
    "    return G"
   ]
  },
  {
   "cell_type": "code",
   "execution_count": 17,
   "metadata": {},
   "outputs": [
    {
     "name": "stdout",
     "output_type": "stream",
     "text": [
      "1 training examples processsed\n",
      "5001 training examples processsed\n",
      "10001 training examples processsed\n",
      "15001 training examples processsed\n",
      "20001 training examples processsed\n",
      "25001 training examples processsed\n",
      "30001 training examples processsed\n"
     ]
    }
   ],
   "source": [
    "G = compute_graph_authors(training_set_reduced,IDs,node_info)"
   ]
  },
  {
   "cell_type": "code",
   "execution_count": 22,
   "metadata": {
    "collapsed": true
   },
   "outputs": [],
   "source": [
    "def compute_graph_articles_citation(citation_set, directed_or_not='y'):\n",
    "    if directed_or_not == 'y':\n",
    "        G = nx.DiGraph()\n",
    "    else:\n",
    "        G = nx.Graph()\n",
    "\n",
    "    counter = 0\n",
    "    for i in range(len(citation_set)):\n",
    "        source = citation_set[i][0]\n",
    "        target = citation_set[i][1]\n",
    "        \n",
    "        '''\n",
    "        index_source = IDs.index(source)\n",
    "        index_target = IDs.index(target)\n",
    "        \n",
    "        source_info = [element for element in node_info if element[0]==source][0]\n",
    "        target_info = [element for element in node_info if element[0]==target][0]\n",
    "\n",
    "        \n",
    "        source_title = source_info[2].lower().split(\" \")\n",
    "        \n",
    "        source_title = [token for token in source_title if token not in stpwds]\n",
    "        source_title = [stemmer.stem(token) for token in source_title]\n",
    "\n",
    "        target_title = target_info[2].lower().split(\" \")\n",
    "        target_title = [token for token in target_title if token not in stpwds]\n",
    "        target_title = [stemmer.stem(token) for token in target_title]\n",
    "        \n",
    "        source_auth = source_info[3].split(\",\")\n",
    "        target_auth = target_info[3].split(\",\")\n",
    "        '''\n",
    "        \n",
    "        if citation_set[i][2] == '1':\n",
    "                    G.add_edge(source, target)\n",
    "        else:\n",
    "                    G.add_node(source)\n",
    "                    G.add_node(target)\n",
    "                \n",
    "        counter += 1\n",
    "        if counter % 5000 == True:\n",
    "            print(counter, \"training examples processsed\")\n",
    "        \n",
    "    return G"
   ]
  },
  {
   "cell_type": "code",
   "execution_count": 24,
   "metadata": {},
   "outputs": [
    {
     "name": "stdout",
     "output_type": "stream",
     "text": [
      "1 training examples processsed\n",
      "5001 training examples processsed\n",
      "10001 training examples processsed\n",
      "15001 training examples processsed\n",
      "20001 training examples processsed\n",
      "25001 training examples processsed\n",
      "30001 training examples processsed\n"
     ]
    },
    {
     "data": {
      "text/plain": [
       "0.1153569626931045"
      ]
     },
     "execution_count": 24,
     "metadata": {},
     "output_type": "execute_result"
    }
   ],
   "source": [
    "from time import clock\n",
    "t1 = clock()\n",
    "G_bis = compute_graph_articles_citation(training_set_reduced)\n",
    "t2 = clock()\n",
    "t2 - t1"
   ]
  },
  {
   "cell_type": "code",
   "execution_count": 27,
   "metadata": {},
   "outputs": [
    {
     "name": "stdout",
     "output_type": "stream",
     "text": [
      "<bound method Graph.adjacency of <networkx.classes.digraph.DiGraph object at 0x000001AE8C368780>>\n"
     ]
    }
   ],
   "source": [
    "G_bis.adjacency"
   ]
  },
  {
   "cell_type": "code",
   "execution_count": null,
   "metadata": {
    "collapsed": true
   },
   "outputs": [],
   "source": []
  }
 ],
 "metadata": {
  "kernelspec": {
   "display_name": "Python 2",
   "language": "python",
   "name": "python2"
  },
  "language_info": {
   "codemirror_mode": {
    "name": "ipython",
    "version": 2
   },
   "file_extension": ".py",
   "mimetype": "text/x-python",
   "name": "python",
   "nbconvert_exporter": "python",
   "pygments_lexer": "ipython2",
   "version": "2.7.14"
  }
 },
 "nbformat": 4,
 "nbformat_minor": 2
}
