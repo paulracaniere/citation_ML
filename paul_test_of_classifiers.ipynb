{
 "cells": [
  {
   "cell_type": "code",
   "execution_count": 1,
   "metadata": {},
   "outputs": [],
   "source": [
    "import numpy as np\n",
    "import sklearn as skl\n",
    "import csv\n",
    "import nltk\n",
    "import pandas as pd\n",
    "import matplotlib.pyplot as plt\n",
    "\n",
    "stemmer = nltk.stem.PorterStemmer()"
   ]
  },
  {
   "cell_type": "code",
   "execution_count": 43,
   "metadata": {},
   "outputs": [
    {
     "name": "stdout",
     "output_type": "stream",
     "text": [
      "X_train: [[0.15737467 0.12018774 0.         0.        ]\n",
      " [0.18178172 0.06381189 1.         0.        ]\n",
      " [0.         0.01767141 2.         0.        ]\n",
      " ...\n",
      " [0.         0.10487697 2.         0.        ]\n",
      " [0.         0.15349316 3.         0.        ]\n",
      " [0.         0.08893103 1.         0.        ]]\n"
     ]
    }
   ],
   "source": [
    "X_train = np.array(pd.read_csv(\"./paul_train_features.csv\").values)[:,1:-1]\n",
    "train = np.array(pd.read_csv(\"./paul_my_train.csv\"))\n",
    "y_train = train[:,2]\n",
    "print(\"X_train:\", X_train)\n",
    "\n",
    "X_test = np.array(pd.read_csv(\"./paul_test_features.csv\").values)[:,1:-1]\n",
    "test = np.array(pd.read_csv(\"./paul_my_test.csv\"))\n",
    "y_test = test[:,2]"
   ]
  },
  {
   "cell_type": "code",
   "execution_count": null,
   "metadata": {},
   "outputs": [],
   "source": [
    "# Preprocessing\n",
    "\n"
   ]
  },
  {
   "cell_type": "code",
   "execution_count": 21,
   "metadata": {},
   "outputs": [
    {
     "data": {
      "text/plain": [
       "0.8124984768852099"
      ]
     },
     "execution_count": 21,
     "metadata": {},
     "output_type": "execute_result"
    }
   ],
   "source": [
    "sample_size = 1000\n",
    "\n",
    "from sklearn.neighbors import KNeighborsClassifier\n",
    "csf = KNeighborsClassifier()\n",
    "csf.fit(X_train[:sample_size], y_train[:sample_size])\n",
    "csf.score(X_test, y_test)"
   ]
  },
  {
   "cell_type": "code",
   "execution_count": 14,
   "metadata": {},
   "outputs": [
    {
     "data": {
      "text/plain": [
       "0.7610456284574706"
      ]
     },
     "execution_count": 14,
     "metadata": {},
     "output_type": "execute_result"
    }
   ],
   "source": [
    "sample_size = 1000\n",
    "\n",
    "from sklearn.tree import DecisionTreeClassifier\n",
    "csf = DecisionTreeClassifier()\n",
    "csf.fit(X_train[:sample_size], y_train[:sample_size])\n",
    "csf.score(X_test, y_test)"
   ]
  },
  {
   "cell_type": "code",
   "execution_count": 7,
   "metadata": {},
   "outputs": [
    {
     "data": {
      "text/plain": [
       "0.8122791483554422"
      ]
     },
     "execution_count": 7,
     "metadata": {},
     "output_type": "execute_result"
    }
   ],
   "source": [
    "sample_size = 30000\n",
    "\n",
    "from sklearn.svm import SVC\n",
    "csf = SVC(kernel=\"linear\", C=0.025)\n",
    "csf.fit(X_train[:sample_size], y_train[:sample_size])\n",
    "csf.score(X_test, y_test)"
   ]
  },
  {
   "cell_type": "code",
   "execution_count": 3,
   "metadata": {},
   "outputs": [
    {
     "name": "stdout",
     "output_type": "stream",
     "text": [
      "c= 0.01 Score: 0.6742727634582423\n",
      "c= 0.02 Score: 0.7150678699950448\n",
      "c= 0.04 Score: 0.7564072362168266\n",
      "c= 0.08 Score: 0.7695588247240116\n",
      "c= 0.16 Score: 0.8021006799184422\n",
      "c= 0.32 Score: 0.8123522578653648\n",
      "c= 0.64 Score: 0.8190133465472003\n",
      "c= 1.28 Score: 0.8234486568158371\n",
      "c= 2.56 Score: 0.8280626792198403\n",
      "c= 5.12 Score: 0.8296548418803766\n",
      "c= 10.24 Score: 0.8313444838874764\n",
      "c= 20.48 Score: 0.8317750176681316\n",
      "c= 40.96 Score: 0.8317831409470119\n",
      "c= 81.92 Score: 0.8308733337124197\n",
      "c= 163.84 Score: 0.8303534438640813\n"
     ]
    }
   ],
   "source": [
    "sample_size = 10000\n",
    "\n",
    "from sklearn.svm import SVC\n",
    "c = 0.01\n",
    "for i in range(15): \n",
    "    csf = SVC(gamma=2, C=c)\n",
    "    csf.fit(X_train[:sample_size], y_train[:sample_size])\n",
    "    print(\"c=\",c,\"Score:\",csf.score(X_test, y_test))\n",
    "    c *= 2"
   ]
  },
  {
   "cell_type": "code",
   "execution_count": 5,
   "metadata": {},
   "outputs": [
    {
     "name": "stdout",
     "output_type": "stream",
     "text": [
      "gamma= 0.01 \tScore: 0.8322299212854276\n",
      "gamma= 0.02 \tScore: 0.832636085229442\n",
      "gamma= 0.04 \tScore: 0.8329935095001747\n",
      "gamma= 0.08 \tScore: 0.8330260026156958\n",
      "gamma= 0.16 \tScore: 0.8332047147510622\n",
      "gamma= 0.32 \tScore: 0.833090988846738\n",
      "gamma= 0.64 \tScore: 0.8325304826039983\n",
      "gamma= 1.28 \tScore: 0.8321080721022234\n",
      "gamma= 2.56 \tScore: 0.8306458819037716\n",
      "gamma= 5.12 \tScore: 0.8299797730355881\n",
      "gamma= 10.24 \tScore: 0.8305484025572082\n",
      "gamma= 20.48 \tScore: 0.8308733337124197\n",
      "gamma= 40.96 \tScore: 0.8299066635256654\n",
      "gamma= 81.92 \tScore: 0.8287369113669041\n",
      "gamma= 163.84 \tScore: 0.8263974070493814\n"
     ]
    }
   ],
   "source": [
    "sample_size = 10000\n",
    "\n",
    "from sklearn.svm import SVC\n",
    "c = 0.01\n",
    "for i in range(15): \n",
    "    csf = SVC(gamma=c, C=50)\n",
    "    csf.fit(X_train[:sample_size], y_train[:sample_size])\n",
    "    print(\"gamma=\",c,\"\\tScore:\",csf.score(X_test, y_test))\n",
    "    c *= 2"
   ]
  },
  {
   "cell_type": "code",
   "execution_count": 42,
   "metadata": {},
   "outputs": [
    {
     "name": "stdout",
     "output_type": "stream",
     "text": [
      "gamma= 0.16 C= 50 \tScore: 0.8316369219271667\n"
     ]
    }
   ],
   "source": [
    "sample_size = 50000\n",
    "\n",
    "from sklearn.svm import SVC\n",
    "csf = SVC(gamma=0.16, C=50)\n",
    "csf.fit(X_train[:sample_size], y_train[:sample_size])\n",
    "print(\"gamma=\",0.16, \"C=\", 50,\"\\tScore:\",csf.score(X_test, y_test))"
   ]
  },
  {
   "cell_type": "code",
   "execution_count": 41,
   "metadata": {},
   "outputs": [
    {
     "data": {
      "text/plain": [
       "0.8325710989983998"
      ]
     },
     "execution_count": 41,
     "metadata": {},
     "output_type": "execute_result"
    }
   ],
   "source": [
    "sample_size = 80000\n",
    "\n",
    "from sklearn.ensemble import AdaBoostClassifier\n",
    "csf = AdaBoostClassifier()\n",
    "csf.fit(X_train[:sample_size], y_train[:sample_size])\n",
    "csf.score(X_test, y_test)"
   ]
  },
  {
   "cell_type": "code",
   "execution_count": 40,
   "metadata": {},
   "outputs": [
    {
     "data": {
      "text/plain": [
       "0.8063004150995507"
      ]
     },
     "execution_count": 40,
     "metadata": {},
     "output_type": "execute_result"
    }
   ],
   "source": [
    "sample_size = 400\n",
    "\n",
    "from sklearn.ensemble import RandomForestClassifier\n",
    "csf = RandomForestClassifier(n_estimators=10)\n",
    "csf.fit(X_train[:sample_size], y_train[:sample_size])\n",
    "csf.score(X_test, y_test)"
   ]
  },
  {
   "cell_type": "code",
   "execution_count": null,
   "metadata": {},
   "outputs": [],
   "source": []
  }
 ],
 "metadata": {
  "kernelspec": {
   "display_name": "Python 3",
   "language": "python",
   "name": "python3"
  },
  "language_info": {
   "codemirror_mode": {
    "name": "ipython",
    "version": 3
   },
   "file_extension": ".py",
   "mimetype": "text/x-python",
   "name": "python",
   "nbconvert_exporter": "python",
   "pygments_lexer": "ipython3",
   "version": "3.6.6"
  }
 },
 "nbformat": 4,
 "nbformat_minor": 2
}
